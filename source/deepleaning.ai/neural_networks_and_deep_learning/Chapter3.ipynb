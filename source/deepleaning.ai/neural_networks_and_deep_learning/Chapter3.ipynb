{
 "cells": [
  {
   "cell_type": "markdown",
   "metadata": {},
   "source": [
    "### 3.1, 3.2  神经网络的表示"
   ]
  },
  {
   "cell_type": "markdown",
   "metadata": {},
   "source": [
    "简单的神经网络分为三层：\n",
    "\n",
    "* Input layer $a^{[0]} = X$\n",
    "* Hidden layer $a^{[1]}$\n",
    "* Output layer\n",
    "\n",
    "这就是 2 层神经网络，隐层开始算起为第一层"
   ]
  },
  {
   "cell_type": "markdown",
   "metadata": {},
   "source": [
    "### 3.4 多个例子的向量化"
   ]
  },
  {
   "cell_type": "markdown",
   "metadata": {},
   "source": [
    "需要搞懂下向量的堆叠和推导\n",
    "\n",
    "从 A 到 Z，横向的话，我们有对所有训练样本用指标排序，所以横向指标就对应了不通的训练样本，而众向则对应了各个 feature"
   ]
  },
  {
   "cell_type": "markdown",
   "metadata": {},
   "source": [
    "### 3.5 向量化实现的解释"
   ]
  },
  {
   "cell_type": "markdown",
   "metadata": {
    "collapsed": true
   },
   "source": [
    "这里看看 TensorFlow 实战 Google 深度学习框架 p53"
   ]
  },
  {
   "cell_type": "markdown",
   "metadata": {},
   "source": [
    "### 3.6 激活函数"
   ]
  },
  {
   "cell_type": "markdown",
   "metadata": {},
   "source": [
    "有个函数几乎总是比 sigmoid 函数表现好，即 tanh 函数，这函数的值介乎 -1 和 1 之间，因为这个函数值的平均接近0，而使用 tanh 有点类似数据中心化的效果"
   ]
  },
  {
   "cell_type": "markdown",
   "metadata": {},
   "source": [
    "$$ a = tanh(z) = \\frac{e^z - e^{-z}}{e^z + e^{-z}}$$"
   ]
  },
  {
   "cell_type": "markdown",
   "metadata": {},
   "source": [
    "数学上实际上是 sigmoid 的平移版本"
   ]
  },
  {
   "cell_type": "markdown",
   "metadata": {},
   "source": [
    "吴恩达几乎不用 sigmoid 函数了，tanh 函数几乎在所有场合都更优越，一个例外是输出层，因为如果 y 是 0 或 1，那么你希望 y_hat 介于 0 到 1 之间更合理，所以二元分类的输出层可以用。"
   ]
  },
  {
   "cell_type": "markdown",
   "metadata": {},
   "source": [
    "现在 sigmoid 和 tanh 函数都有一个缺点就是：如果 z 非常大或非常小，那么导数的梯度或者说这个函数的斜率可能就很小，函数的斜率很接近 0，这样会拖慢梯度下降，在机学习中，一个非常欢迎的玩具是修正线性单元。(一个不可微的函数)"
   ]
  },
  {
   "cell_type": "markdown",
   "metadata": {},
   "source": [
    "所以选择激活函数的经验是：\n",
    "\n",
    "如果你的输出值是 0 和 1，那么 sigmoid 很适合做输出层的激活函数(二元分类)，然后其他所有层都用 ReLU，这几乎成了一种默认选择了，如果你不确定用什么激活函数，那么就用 ReLU\n"
   ]
  },
  {
   "cell_type": "markdown",
   "metadata": {},
   "source": [
    "ReLU 之所以会比 tanh 快的原因是因为他没有了在接近 0 时，斜率接近 0 时，减慢学习速度的效应"
   ]
  },
  {
   "cell_type": "markdown",
   "metadata": {},
   "source": [
    "### 3.7 为啥要用非线性激活函数"
   ]
  },
  {
   "cell_type": "markdown",
   "metadata": {},
   "source": [
    "不用就没法计算更复杂的函数了"
   ]
  },
  {
   "cell_type": "markdown",
   "metadata": {},
   "source": [
    "### 3.8 激活函数的导数"
   ]
  },
  {
   "cell_type": "markdown",
   "metadata": {},
   "source": [
    "因为需要反向传播，按照计算图的理论，所以肯定需要激活函数的导数，有空求下这三个函数的导数，待补三张图"
   ]
  }
 ],
 "metadata": {
  "hide_input": false,
  "kernelspec": {
   "display_name": "Python 3",
   "language": "python",
   "name": "python3"
  },
  "language_info": {
   "codemirror_mode": {
    "name": "ipython",
    "version": 3
   },
   "file_extension": ".py",
   "mimetype": "text/x-python",
   "name": "python",
   "nbconvert_exporter": "python",
   "pygments_lexer": "ipython3",
   "version": "3.6.2"
  }
 },
 "nbformat": 4,
 "nbformat_minor": 2
}
