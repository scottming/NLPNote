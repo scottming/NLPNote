{
 "cells": [
  {
   "cell_type": "markdown",
   "metadata": {
    "collapsed": true
   },
   "source": [
    "### 4.1 深层神经网络"
   ]
  },
  {
   "cell_type": "markdown",
   "metadata": {},
   "source": [
    "在数有几层网络的时候，记得不能把输入层数进去"
   ]
  },
  {
   "cell_type": "markdown",
   "metadata": {},
   "source": [
    "符号约定，可看材料，也可看贴图"
   ]
  },
  {
   "cell_type": "markdown",
   "metadata": {},
   "source": [
    "### 4.2 "
   ]
  },
  {
   "cell_type": "markdown",
   "metadata": {},
   "source": [
    "反向传播，待补图<>"
   ]
  },
  {
   "cell_type": "markdown",
   "metadata": {},
   "source": [
    "前向递归"
   ]
  },
  {
   "cell_type": "markdown",
   "metadata": {},
   "source": [
    "### 4.3 深度学习中的前向传播\n",
    "\n",
    "待推导"
   ]
  },
  {
   "cell_type": "markdown",
   "metadata": {},
   "source": [
    "### 4.4 核对矩阵的维数"
   ]
  },
  {
   "cell_type": "markdown",
   "metadata": {},
   "source": [
    "这里可以做下作业加深下印象"
   ]
  },
  {
   "cell_type": "markdown",
   "metadata": {},
   "source": [
    "### 4.5 为什么使用深层表示"
   ]
  },
  {
   "cell_type": "markdown",
   "metadata": {},
   "source": [
    "深度学习可以解决很多问题，但其实并不需要很大的神经网络，但是得有深度，也就是说得有比较多的隐层"
   ]
  },
  {
   "cell_type": "markdown",
   "metadata": {},
   "source": [
    "### 4.6 搭建神经网络"
   ]
  },
  {
   "cell_type": "markdown",
   "metadata": {},
   "source": [
    "算是对前面的一个小总结，利用讲到的各个模块搭建"
   ]
  },
  {
   "cell_type": "markdown",
   "metadata": {},
   "source": [
    "### 4.7 参数和超参数"
   ]
  },
  {
   "cell_type": "markdown",
   "metadata": {},
   "source": [
    "* Parameters: W、b    \n",
    "* hyperparameters:\n",
    "    + learning rate\n",
    "    + hidden layers \n",
    "    + hidden units\n",
    "    + 激活函数\n",
    "    \n",
    "超参数实际上决定了最后参数 W 和 b 的值"
   ]
  },
  {
   "cell_type": "markdown",
   "metadata": {},
   "source": [
    "关于超参数如何选择，比如学习率，可以先试一个，然后看看损失函数有没下降"
   ]
  },
  {
   "cell_type": "markdown",
   "metadata": {},
   "source": [
    "应用机器学习，很大程度基于经验"
   ]
  }
 ],
 "metadata": {
  "hide_input": false,
  "kernelspec": {
   "display_name": "Python 3",
   "language": "python",
   "name": "python3"
  },
  "language_info": {
   "codemirror_mode": {
    "name": "ipython",
    "version": 3
   },
   "file_extension": ".py",
   "mimetype": "text/x-python",
   "name": "python",
   "nbconvert_exporter": "python",
   "pygments_lexer": "ipython3",
   "version": "3.6.2"
  }
 },
 "nbformat": 4,
 "nbformat_minor": 2
}
