{
 "cells": [
  {
   "cell_type": "markdown",
   "metadata": {},
   "source": [
    "# Python 正则表达式备忘录"
   ]
  },
  {
   "cell_type": "markdown",
   "metadata": {},
   "source": [
    "* 常用元字符\n",
    "* re 常用函数\n",
    "    + re.complile\n",
    "    + re.match\n",
    "    + re.search\n",
    "    + re.findall\n",
    "    + re.finditer\n",
    "* 分组、捕获和不捕获\n",
    "* re 常用特性(两种方式，全称/缩写)\n",
    "    + re.VERBOSE\n",
    "    + re.MULTILINE\n",
    "    + 贪婪和非贪婪\n",
    "* 环视(Look around)"
   ]
  },
  {
   "cell_type": "markdown",
   "metadata": {},
   "source": [
    "## 1. 常用元字符"
   ]
  },
  {
   "cell_type": "markdown",
   "metadata": {},
   "source": [
    "|元字符|含义|\n",
    "|:----:|----|\n",
    "|.|匹配除了换行符之外的任何字符。|\n",
    "|[ ]|字符类别，常用来匹配字符集，字符可以单个列出，也能用`-`表示区间。|\n",
    "|[^ ]|否定字符类。|\n",
    "|*|匹配前一个字符的 0 或 更多重复。|\n",
    "|+|匹配前一个字符的 1 或 更多重复。|\n",
    "|?|让前一个字符可选|\n",
    "|{n,m}|对前一个字符，至少匹配 n 次，但不超过 m 次|\n",
    "|(xyz)|字符组，精确匹配 xyz 组|\n",
    "|&#124;|或，匹配 &#124; 之前或之后|\n",
    "|&#92;|转义 `[ ] ( ) { } . * + ? ^ $ \\ &`|\n",
    "|^|匹配最开头的零宽|\n",
    "|$|匹配最后面的零宽|"
   ]
  },
  {
   "cell_type": "markdown",
   "metadata": {},
   "source": [
    "## 2. 预设特殊字符"
   ]
  },
  {
   "cell_type": "markdown",
   "metadata": {},
   "source": [
    "字符|含义\n",
    "--|:----------------------------\n",
    "\\d|匹配任何十进制数；它相当于类 [0-9]。\n",
    "\\D|匹配任何非数字字符；它相当于类 [^0-9]。\n",
    "\\s|匹配任何空白字符；它相当于类  [ \\t\\n\\r\\f\\v]。\n",
    "\\S|匹配任何非空白字符；它相当于类 [^ \\t\\n\\r\\f\\v]。\n",
    "\\w|匹配任何字母数字字符；它相当于类 [a-zA-Z0-9_] 加上中文等。\n",
    "\\W|匹配任何非字母数字字符；它相当于类 [^a-zA-Z0-9_]。"
   ]
  },
  {
   "cell_type": "markdown",
   "metadata": {},
   "source": [
    "**常用边界符**\n",
    "\n",
    "字符|含义\n",
    "----|---\n",
    "^|匹配一行的开头\n",
    "$|匹配一行的结尾\n",
    "\\b|匹配一个英文单词的边界或中文句子(全角半角皆可)的边界\n",
    "\\B|\\b 的反向\n",
    "\\A|匹配输入的开头\n",
    "\\Z|匹配输入的结尾"
   ]
  },
  {
   "cell_type": "markdown",
   "metadata": {},
   "source": [
    "## 3. 常用函数和方法"
   ]
  },
  {
   "cell_type": "markdown",
   "metadata": {},
   "source": [
    "* compile 函数\n",
    "* match 函数\n",
    "* search 函数\n",
    "* findall 函数\n",
    "* finditer 函数\n",
    "* split 函数\n",
    "* sub 函数\n",
    "* subn 函数\n",
    "* group 方法"
   ]
  },
  {
   "cell_type": "markdown",
   "metadata": {},
   "source": [
    "### compile 编译"
   ]
  },
  {
   "cell_type": "markdown",
   "metadata": {},
   "source": [
    "形式：`complie(pattern[, flag])` pattern 是需要编译的模式，flag 表示可选，如忽略大小写，多行模式等等"
   ]
  },
  {
   "cell_type": "code",
   "execution_count": 1,
   "metadata": {},
   "outputs": [
    {
     "name": "stdout",
     "output_type": "stream",
     "text": [
      "re.compile('hello')\n"
     ]
    }
   ],
   "source": [
    "import re\n",
    "\n",
    "p = re.compile('hello')\n",
    "print(p)"
   ]
  },
  {
   "cell_type": "markdown",
   "metadata": {},
   "source": [
    "### match 和 search "
   ]
  },
  {
   "cell_type": "markdown",
   "metadata": {},
   "source": [
    "match 和 search 的区别在于，match 是从最开头开始匹配，而 search 是全文搜寻，匹配到第一个则听下，无疑 search 用的比 match 更频繁"
   ]
  },
  {
   "cell_type": "code",
   "execution_count": 2,
   "metadata": {},
   "outputs": [
    {
     "name": "stdout",
     "output_type": "stream",
     "text": [
      "Match: None\n",
      "Search: <_sre.SRE_Match object; span=(4, 9), match='hello'>\n"
     ]
    }
   ],
   "source": [
    "s = 'Hi, hello world'\n",
    "\n",
    "print('Match:', p.match(s))\n",
    "print('Search:', p.search(s))"
   ]
  },
  {
   "cell_type": "markdown",
   "metadata": {},
   "source": [
    "### split"
   ]
  },
  {
   "cell_type": "code",
   "execution_count": 3,
   "metadata": {},
   "outputs": [
    {
     "data": {
      "text/plain": [
       "['Beautiful is better than ugly.', 'Explicit is better than implicit']"
      ]
     },
     "execution_count": 3,
     "metadata": {},
     "output_type": "execute_result"
    }
   ],
   "source": [
    "re.split(r'\\n', 'Beautiful is better than ugly.\\nExplicit is better than implicit')"
   ]
  },
  {
   "cell_type": "code",
   "execution_count": 4,
   "metadata": {},
   "outputs": [
    {
     "data": {
      "text/plain": [
       "['Beautiful', 'is', 'better than ugly.']"
      ]
     },
     "execution_count": 4,
     "metadata": {},
     "output_type": "execute_result"
    }
   ],
   "source": [
    "p = re.compile(r'\\W')\n",
    "p.split('Beautiful is better than ugly.', 2)  # 最多做两次切分"
   ]
  },
  {
   "cell_type": "markdown",
   "metadata": {},
   "source": [
    "### sub 替换"
   ]
  },
  {
   "cell_type": "code",
   "execution_count": 5,
   "metadata": {},
   "outputs": [
    {
     "data": {
      "text/plain": [
       "'order -> order -> order13'"
      ]
     },
     "execution_count": 5,
     "metadata": {},
     "output_type": "execute_result"
    }
   ],
   "source": [
    "p = re.compile(r'[0-9]+ ')\n",
    "p.sub(' -> ', 'order0 order1 order13')"
   ]
  },
  {
   "cell_type": "markdown",
   "metadata": {},
   "source": [
    "甚至可以用函数"
   ]
  },
  {
   "cell_type": "code",
   "execution_count": 6,
   "metadata": {},
   "outputs": [
    {
     "data": {
      "text/plain": [
       "'A1234 B193 B123'"
      ]
     },
     "execution_count": 6,
     "metadata": {},
     "output_type": "execute_result"
    }
   ],
   "source": [
    "def normalize_orders(matchobj):\n",
    "    return 'A' if matchobj.group(1) == '-' else 'B'\n",
    "\n",
    "re.sub(r'([-|A-Z])', normalize_orders, '-1234 A193 B123')"
   ]
  },
  {
   "cell_type": "markdown",
   "metadata": {},
   "source": [
    "### findall 和 finditer"
   ]
  },
  {
   "cell_type": "markdown",
   "metadata": {},
   "source": [
    "两者的区别在于前者返回 list，后者返回可迭代对象"
   ]
  },
  {
   "cell_type": "code",
   "execution_count": 7,
   "metadata": {},
   "outputs": [
    {
     "name": "stdout",
     "output_type": "stream",
     "text": [
      "['Hello', 'Hello']\n"
     ]
    }
   ],
   "source": [
    "s = 'Hello, world! Hello jack.'\n",
    "p = re.compile('Hello')\n",
    "match_all = p.findall(s)\n",
    "print(match_all)"
   ]
  },
  {
   "cell_type": "code",
   "execution_count": 8,
   "metadata": {
    "scrolled": true
   },
   "outputs": [
    {
     "name": "stdout",
     "output_type": "stream",
     "text": [
      "Hello\n",
      "Hello\n"
     ]
    }
   ],
   "source": [
    "for i in p.finditer(s):\n",
    "    print(i.group())"
   ]
  },
  {
   "cell_type": "markdown",
   "metadata": {},
   "source": [
    "### expand"
   ]
  },
  {
   "cell_type": "code",
   "execution_count": 20,
   "metadata": {},
   "outputs": [
    {
     "data": {
      "text/plain": [
       "'<b>Hello<b>'"
      ]
     },
     "execution_count": 20,
     "metadata": {},
     "output_type": "execute_result"
    }
   ],
   "source": [
    "p = re.compile(r'(?P<first>\\w+) (?P<second>\\w+)')\n",
    "m = p.search('Hello world') \n",
    "m.expand(r'<b>\\g<first><b>')  # 比直接 sub 替换更简洁一些"
   ]
  },
  {
   "cell_type": "markdown",
   "metadata": {},
   "source": [
    "## 4. Grouping"
   ]
  },
  {
   "cell_type": "markdown",
   "metadata": {},
   "source": [
    "### group([group1,...])"
   ]
  },
  {
   "cell_type": "code",
   "execution_count": 9,
   "metadata": {
    "collapsed": true
   },
   "outputs": [],
   "source": [
    "p = re.compile(r'(\\w+) (\\w+)')  # 这会匹配两个单词组\n",
    "m = p.search('Hello world')"
   ]
  },
  {
   "cell_type": "code",
   "execution_count": 10,
   "metadata": {},
   "outputs": [
    {
     "data": {
      "text/plain": [
       "'Hello world'"
      ]
     },
     "execution_count": 10,
     "metadata": {},
     "output_type": "execute_result"
    }
   ],
   "source": [
    "m.group()"
   ]
  },
  {
   "cell_type": "code",
   "execution_count": 11,
   "metadata": {
    "scrolled": true
   },
   "outputs": [
    {
     "data": {
      "text/plain": [
       "'Hello world'"
      ]
     },
     "execution_count": 11,
     "metadata": {},
     "output_type": "execute_result"
    }
   ],
   "source": [
    "m.group(0)"
   ]
  },
  {
   "cell_type": "code",
   "execution_count": 12,
   "metadata": {
    "scrolled": true
   },
   "outputs": [
    {
     "data": {
      "text/plain": [
       "'Hello'"
      ]
     },
     "execution_count": 12,
     "metadata": {},
     "output_type": "execute_result"
    }
   ],
   "source": [
    "m.group(1)"
   ]
  },
  {
   "cell_type": "code",
   "execution_count": 13,
   "metadata": {},
   "outputs": [
    {
     "data": {
      "text/plain": [
       "'world'"
      ]
     },
     "execution_count": 13,
     "metadata": {},
     "output_type": "execute_result"
    }
   ],
   "source": [
    "m.group(2)"
   ]
  },
  {
   "cell_type": "code",
   "execution_count": 14,
   "metadata": {
    "scrolled": true
   },
   "outputs": [
    {
     "ename": "IndexError",
     "evalue": "no such group",
     "output_type": "error",
     "traceback": [
      "\u001b[0;31m------------------------------------------------------------------\u001b[0m",
      "\u001b[0;31mIndexError\u001b[0m                       Traceback (most recent call last)",
      "\u001b[0;32m<ipython-input-14-71a2c7935517>\u001b[0m in \u001b[0;36m<module>\u001b[0;34m()\u001b[0m\n\u001b[0;32m----> 1\u001b[0;31m \u001b[0mm\u001b[0m\u001b[0;34m.\u001b[0m\u001b[0mgroup\u001b[0m\u001b[0;34m(\u001b[0m\u001b[0;36m3\u001b[0m\u001b[0;34m)\u001b[0m\u001b[0;34m\u001b[0m\u001b[0m\n\u001b[0m",
      "\u001b[0;31mIndexError\u001b[0m: no such group"
     ]
    }
   ],
   "source": [
    "m.group(3)"
   ]
  },
  {
   "cell_type": "markdown",
   "metadata": {},
   "source": [
    "### groupdict([default])"
   ]
  },
  {
   "cell_type": "code",
   "execution_count": 15,
   "metadata": {},
   "outputs": [
    {
     "data": {
      "text/plain": [
       "{'first': 'Hello', 'second': 'world'}"
      ]
     },
     "execution_count": 15,
     "metadata": {},
     "output_type": "execute_result"
    }
   ],
   "source": [
    "p = re.compile(r'(?P<first>\\w+) (?P<second>\\w+)')\n",
    "p.search('Hello world').groupdict()  # 注意：如果没有命名组，default 则为空"
   ]
  },
  {
   "cell_type": "markdown",
   "metadata": {},
   "source": [
    "### group 其他"
   ]
  },
  {
   "cell_type": "code",
   "execution_count": 16,
   "metadata": {
    "scrolled": true
   },
   "outputs": [
    {
     "data": {
      "text/plain": [
       "6"
      ]
     },
     "execution_count": 16,
     "metadata": {},
     "output_type": "execute_result"
    }
   ],
   "source": [
    "p = re.compile(r'(?P<first>\\w+) (?P<second>\\w+)')\n",
    "m = p.search('Hello world') # 注意：如果没有命名组，default 则为空\n",
    "m.start(2) #第二个 group 的 start"
   ]
  },
  {
   "cell_type": "code",
   "execution_count": 18,
   "metadata": {},
   "outputs": [
    {
     "data": {
      "text/plain": [
       "11"
      ]
     },
     "execution_count": 18,
     "metadata": {},
     "output_type": "execute_result"
    }
   ],
   "source": [
    "p = re.compile(r'(?P<first>\\w+) (?P<second>\\w+)')\n",
    "m = p.search('Hello world') \n",
    "m.end(2) #第二个 group 的 end"
   ]
  },
  {
   "cell_type": "code",
   "execution_count": 19,
   "metadata": {},
   "outputs": [
    {
     "data": {
      "text/plain": [
       "(6, 11)"
      ]
     },
     "execution_count": 19,
     "metadata": {},
     "output_type": "execute_result"
    }
   ],
   "source": [
    "p = re.compile(r'(?P<first>\\w+) (?P<second>\\w+)')\n",
    "m = p.search('Hello world') \n",
    "m.span(2) #第二个 group 的 start 和 end"
   ]
  },
  {
   "cell_type": "markdown",
   "metadata": {},
   "source": [
    "### 这里有个 python cookbook 3 的例子"
   ]
  },
  {
   "cell_type": "code",
   "execution_count": 41,
   "metadata": {
    "collapsed": true
   },
   "outputs": [],
   "source": [
    "text = 'Today is 11/27/2012. PyCon starts 3/13/2013.'\n",
    "datepat = re.compile(r'(\\d+)/(\\d+)/(\\d+)')"
   ]
  },
  {
   "cell_type": "code",
   "execution_count": 51,
   "metadata": {},
   "outputs": [
    {
     "name": "stdout",
     "output_type": "stream",
     "text": [
      "2012-11-27\n",
      "2013-3-13\n"
     ]
    }
   ],
   "source": [
    "for month, day, year in datepat.findall(text):\n",
    "    print('{}-{}-{}'.format(year, month, day))"
   ]
  },
  {
   "cell_type": "code",
   "execution_count": 75,
   "metadata": {},
   "outputs": [
    {
     "name": "stdout",
     "output_type": "stream",
     "text": [
      "2012-11-27\n",
      "2013-3-13\n"
     ]
    }
   ],
   "source": [
    "datepat = re.compile(r'(?P<month>\\d+)/(?P<day>\\d+)/(?P<year>\\d+)')\n",
    "for m in datepat.finditer(text):\n",
    "    print('{}-{}-{}'.format(m.group('year'), m.group('month'), m.group('day')))"
   ]
  },
  {
   "cell_type": "markdown",
   "metadata": {},
   "source": [
    "### 分组是很有意义的，比如用在分割上"
   ]
  },
  {
   "cell_type": "markdown",
   "metadata": {},
   "source": [
    "分组捕获"
   ]
  },
  {
   "cell_type": "code",
   "execution_count": 82,
   "metadata": {},
   "outputs": [
    {
     "data": {
      "text/plain": [
       "['我是个好人', '，', '我真的是个好人', '。', '你们不要冤枉我']"
      ]
     },
     "execution_count": 82,
     "metadata": {},
     "output_type": "execute_result"
    }
   ],
   "source": [
    "s = '我是个好人，我真的是个好人。你们不要冤枉我'\n",
    "p = re.compile(r'(，|。)')\n",
    "p.split(s)"
   ]
  },
  {
   "cell_type": "markdown",
   "metadata": {},
   "source": [
    "分组不捕获"
   ]
  },
  {
   "cell_type": "code",
   "execution_count": 89,
   "metadata": {},
   "outputs": [
    {
     "data": {
      "text/plain": [
       "['我是个好人', '我真的是个好人', '你们不要冤枉我']"
      ]
     },
     "execution_count": 89,
     "metadata": {},
     "output_type": "execute_result"
    }
   ],
   "source": [
    "p = re.compile(r'(?:，|。)')\n",
    "p.split(s)"
   ]
  },
  {
   "cell_type": "markdown",
   "metadata": {},
   "source": [
    "用 `[]` 号做可选"
   ]
  },
  {
   "cell_type": "code",
   "execution_count": 80,
   "metadata": {
    "scrolled": true
   },
   "outputs": [
    {
     "data": {
      "text/plain": [
       "['我是个好人', '我真的是个好人', '你们不要冤枉我']"
      ]
     },
     "execution_count": 80,
     "metadata": {},
     "output_type": "execute_result"
    }
   ],
   "source": [
    "p = re.compile(r'[，。]')\n",
    "p.split(s)"
   ]
  },
  {
   "cell_type": "markdown",
   "metadata": {},
   "source": [
    "那如果需要保留符号并添加到一句话的后头呢？"
   ]
  },
  {
   "cell_type": "code",
   "execution_count": 85,
   "metadata": {},
   "outputs": [
    {
     "name": "stdout",
     "output_type": "stream",
     "text": [
      "['我是个好人，', '我真的是个好人。', '你们不要冤枉我']\n"
     ]
    }
   ],
   "source": [
    "import itertools\n",
    "p = re.compile(r'(，|。)') \n",
    "m = p.split(s)\n",
    "sentences = m[0::2]\n",
    "delimiters = m[1::2]\n",
    "concat = itertools.zip_longest(sentences, delimiters, fillvalue='')\n",
    "final_sentences = [''.join(i) for i in concat]  # 每个 sentence 和 delimiter\n",
    "print(final_sentences)"
   ]
  },
  {
   "cell_type": "markdown",
   "metadata": {},
   "source": [
    "## 5. 其他常用"
   ]
  },
  {
   "cell_type": "markdown",
   "metadata": {},
   "source": [
    "* re.VERBOSE\n",
    "* re.MULTILINE"
   ]
  },
  {
   "cell_type": "markdown",
   "metadata": {},
   "source": [
    "待补"
   ]
  },
  {
   "cell_type": "markdown",
   "metadata": {},
   "source": [
    "## 6. 环视(Look aroud):"
   ]
  },
  {
   "cell_type": "markdown",
   "metadata": {},
   "source": [
    "**环视类别：**\n",
    "\n",
    "标识|中文含义|英文含义\n",
    "-----------|:--------------:|:----------------\n",
    "`(?=pattern)`|肯定顺序环视|positive lookahead\n",
    "`(?!pattern)`|否定顺序环视|negative lookahead\n",
    "`(?<=pattern)`|肯定逆序环视|positive lookbehind\n",
    "`(?<!pattern)`|否定逆序环视|negative lookbehind"
   ]
  },
  {
   "cell_type": "markdown",
   "metadata": {},
   "source": [
    "### 肯定顺序环视："
   ]
  },
  {
   "cell_type": "markdown",
   "metadata": {},
   "source": [
    "**环视是无宽度的**\n",
    "\n",
    "元字符 `^`、`$` 在开头和结尾时候都是零宽度的，而环视也是另宽度的。"
   ]
  },
  {
   "cell_type": "code",
   "execution_count": 21,
   "metadata": {},
   "outputs": [
    {
     "name": "stdout",
     "output_type": "stream",
     "text": [
      "Without lookahead:\n",
      "16 19\n",
      "\n",
      "With lookahead:\n",
      "16 16\n"
     ]
    }
   ],
   "source": [
    "pattern = re.compile(r'fox')\n",
    "result = pattern.search('The quick brown fox jumps over the lazy dog')\n",
    "print('Without lookahead:')\n",
    "print(result.start(), result.end(), end='\\n\\n')\n",
    "\n",
    "pattern = re.compile(r'(?=fox)')\n",
    "result = pattern.search('The quick brown fox jumps over the lazy dog')\n",
    "print('With lookahead:')\n",
    "print(result.start(), result.end())"
   ]
  },
  {
   "cell_type": "markdown",
   "metadata": {},
   "source": [
    "**环视和非环视匹配**\n",
    "\n",
    "例：寻找 `,` 号结尾的单词"
   ]
  },
  {
   "cell_type": "code",
   "execution_count": 22,
   "metadata": {},
   "outputs": [
    {
     "name": "stdout",
     "output_type": "stream",
     "text": [
      "With lookahead\n",
      "['Felix', 'Victor']\n",
      "\n",
      "Without lookahead\n",
      "['Felix,', 'Victor,']\n"
     ]
    }
   ],
   "source": [
    "pattern = re.compile(r'\\w+(?=,)')\n",
    "m = pattern.findall('They were three: Felix, Victor, and Carlos.')\n",
    "print('With lookahead')\n",
    "print(m, end='\\n\\n')\n",
    "\n",
    "pattern = re.compile(r'\\w+,')\n",
    "m = pattern.findall('They were three: Felix, Victor, and Carlos')\n",
    "print('Without lookahead')\n",
    "print(m)"
   ]
  },
  {
   "cell_type": "markdown",
   "metadata": {},
   "source": [
    "例：寻找 `,` 或 `.` 结尾的单词，但不包含他们"
   ]
  },
  {
   "cell_type": "code",
   "execution_count": 23,
   "metadata": {},
   "outputs": [
    {
     "name": "stdout",
     "output_type": "stream",
     "text": [
      "['Felix', 'Victor', 'Carlos']\n"
     ]
    }
   ],
   "source": [
    "pattern = re.compile(r'\\w+(?=,|\\.)')\n",
    "print(pattern.findall('They were three: Felix, Victor, and Carlos.'))"
   ]
  },
  {
   "cell_type": "markdown",
   "metadata": {},
   "source": [
    "### 否定顺序环视："
   ]
  },
  {
   "cell_type": "markdown",
   "metadata": {},
   "source": [
    "例：找出非 Smith 结尾的 John，并替换为 Sam"
   ]
  },
  {
   "cell_type": "code",
   "execution_count": 24,
   "metadata": {
    "scrolled": true
   },
   "outputs": [
    {
     "name": "stdout",
     "output_type": "stream",
     "text": [
      "27 31\n",
      "63 67\n",
      "I would rather go out with Sam McLane than with John Smith or Sam Bon Jovi.\n"
     ]
    }
   ],
   "source": [
    "pattern = re.compile(r'John(?!\\sSmith)')\n",
    "s = ('I would rather go out with John McLane than with '\n",
    "     'John Smith or John Bon Jovi.')\n",
    "result = pattern.finditer(s)\n",
    "for i in result:\n",
    "    print(i.start(), i.end())\n",
    "\n",
    "replacement = re.sub(pattern, 'Sam', s)\n",
    "print(replacement)"
   ]
  },
  {
   "cell_type": "markdown",
   "metadata": {},
   "source": [
    "### 环视和替换："
   ]
  },
  {
   "cell_type": "markdown",
   "metadata": {},
   "source": [
    "例：1234567890 -> 1,234,567,890"
   ]
  },
  {
   "cell_type": "code",
   "execution_count": 25,
   "metadata": {},
   "outputs": [
    {
     "name": "stdout",
     "output_type": "stream",
     "text": [
      "['123', '455', '678', '90']\n"
     ]
    }
   ],
   "source": [
    "pattern = re.compile(r'\\d{1,3}')\n",
    "print(pattern.findall('The number is: 12345567890'))"
   ]
  },
  {
   "cell_type": "code",
   "execution_count": 26,
   "metadata": {},
   "outputs": [
    {
     "name": "stdout",
     "output_type": "stream",
     "text": [
      "1\n",
      "234\n",
      "567\n"
     ]
    }
   ],
   "source": [
    "pattern = re.compile(r'\\d{1,3}(?=(\\d{3})+(?!\\d))')\n",
    "results = pattern.finditer('1234567890')\n",
    "for result in results:\n",
    "    print(result.group())"
   ]
  },
  {
   "cell_type": "markdown",
   "metadata": {},
   "source": [
    "* `\\d{1, 3}` 匹配 1 位或 2 位 或 3 位数字\n",
    "* `(?=` 肯定顺序环视(注意这里没有组)\n",
    "* `(\\d{3})` 含有 3 个数字的组\n",
    "* `+` 前面的组至少匹配一次\n",
    "* `(?!` 否定顺序环视开始\n",
    "* `\\d` 一个数字"
   ]
  },
  {
   "cell_type": "code",
   "execution_count": 27,
   "metadata": {},
   "outputs": [
    {
     "name": "stdout",
     "output_type": "stream",
     "text": [
      "12,345,678,900\n"
     ]
    }
   ],
   "source": [
    "pattern = re.compile(r'(\\d)(?=(\\d{3})+(?!\\d))')\n",
    "s = '12345678900'\n",
    "print(re.sub(pattern, r'\\1,', s))"
   ]
  },
  {
   "cell_type": "markdown",
   "metadata": {},
   "source": [
    "### 肯定逆序环视："
   ]
  },
  {
   "cell_type": "markdown",
   "metadata": {},
   "source": [
    "刚刚的数字例子还可以用逆序环视来做"
   ]
  },
  {
   "cell_type": "code",
   "execution_count": 28,
   "metadata": {
    "scrolled": true
   },
   "outputs": [
    {
     "name": "stdout",
     "output_type": "stream",
     "text": [
      "1,234,567,890\n"
     ]
    }
   ],
   "source": [
    "pattern = re.compile(r'(?<=\\d)(?=(\\d{3})+(?!\\d))')\n",
    "s = '1234567890'\n",
    "print(re.sub(pattern, ',', s))"
   ]
  },
  {
   "cell_type": "markdown",
   "metadata": {},
   "source": [
    "**逆序环视**在 re 中的问题："
   ]
  },
  {
   "cell_type": "code",
   "execution_count": 29,
   "metadata": {
    "collapsed": true
   },
   "outputs": [],
   "source": [
    "# pattern = re.compile(r'(?<=(John|Jonathan)\\s)McLane')  # 这里会提示需要固定宽度"
   ]
  },
  {
   "cell_type": "code",
   "execution_count": 30,
   "metadata": {
    "collapsed": true
   },
   "outputs": [],
   "source": [
    "import regex"
   ]
  },
  {
   "cell_type": "code",
   "execution_count": 31,
   "metadata": {},
   "outputs": [
    {
     "name": "stdout",
     "output_type": "stream",
     "text": [
      "McLane\n",
      "McLane\n"
     ]
    }
   ],
   "source": [
    "p = regex.compile(r'(?<=(John|Jonathan)\\s)McLane')\n",
    "s = ('I would rather go out with John McLane'\n",
    "     'than with John Smith or Jonathan McLane')\n",
    "for i in p.finditer(s):\n",
    "    print(i.group()) # groups 和 group 的区别，待补\n",
    "    \n",
    "# 小组是从左向右计数的，从1开始。组可以被嵌套。计数的数值可以通过从左到右计算打开的括号数来确定。\n",
    "# The groups() 方法返回一个包含所有小组字符串的元组，从 1 到 所含的小组号。"
   ]
  },
  {
   "cell_type": "code",
   "execution_count": 32,
   "metadata": {},
   "outputs": [
    {
     "name": "stdout",
     "output_type": "stream",
     "text": [
      "['HadoopNews']\n"
     ]
    }
   ],
   "source": [
    "text = 'Know your Big Data = 5 for $50 on eBooks and 40% off all eBooks until Friday #bigdata #hadoop @HadoopNews packtpub.com/bigdataoffers'\n",
    "pattern = re.compile(r'(?<=\\B@)[\\w_]+')\n",
    "print(pattern.findall(text))"
   ]
  },
  {
   "cell_type": "markdown",
   "metadata": {},
   "source": [
    "### 否定逆序环视："
   ]
  },
  {
   "cell_type": "code",
   "execution_count": 33,
   "metadata": {},
   "outputs": [
    {
     "name": "stdout",
     "output_type": "stream",
     "text": [
      "17 20\n",
      "29 32\n"
     ]
    }
   ],
   "source": [
    "pattern = re.compile(r'(?<!John\\s)Doe')\n",
    "results = pattern.finditer('John Doe, Calvin Doe, Hobbes Doe')\n",
    "for result in results:\n",
    "    print(result.start(), result.end())"
   ]
  }
 ],
 "metadata": {
  "hide_input": false,
  "kernelspec": {
   "display_name": "Python 3",
   "language": "python",
   "name": "python3"
  },
  "language_info": {
   "codemirror_mode": {
    "name": "ipython",
    "version": 3
   },
   "file_extension": ".py",
   "mimetype": "text/x-python",
   "name": "python",
   "nbconvert_exporter": "python",
   "pygments_lexer": "ipython3",
   "version": "3.6.1"
  }
 },
 "nbformat": 4,
 "nbformat_minor": 2
}
