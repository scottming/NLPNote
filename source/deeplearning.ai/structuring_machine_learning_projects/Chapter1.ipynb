{
 "cells": [
  {
   "cell_type": "markdown",
   "metadata": {},
   "source": [
    "## 机器学习策略"
   ]
  },
  {
   "cell_type": "markdown",
   "metadata": {},
   "source": [
    "### 1.2 正交化"
   ]
  },
  {
   "cell_type": "markdown",
   "metadata": {},
   "source": [
    "**The Concentp of orthogonalization**\n",
    "\n",
    "正交化，意味着互成 90 度\n",
    "\n",
    "同时影响两个维度的方法，则没有那么正交化。当然也不是说不能用这些方法，而是当有更多正交化控制手段时，那么有正交化调整会简单一些。"
   ]
  },
  {
   "cell_type": "markdown",
   "metadata": {},
   "source": [
    "### 1.3 单一数字评估指标"
   ]
  },
  {
   "cell_type": "markdown",
   "metadata": {},
   "source": [
    "在训练神经网络时，当有一个单一评估指标时，做起事情来回快很多。"
   ]
  },
  {
   "cell_type": "markdown",
   "metadata": {},
   "source": [
    "比如，用查准率和查全率来评估分类器是比较合理，但用这种两个指标来评估一个分类器，经常会让你无从选择，比如 precision and Recall 是要折衷的。"
   ]
  },
  {
   "cell_type": "markdown",
   "metadata": {},
   "source": [
    "$F_1 score = P R 两者的综合$\n",
    "\n",
    "$\\frac{2}{\\frac{1}{p} + \\frac{1}{R}}$"
   ]
  },
  {
   "cell_type": "markdown",
   "metadata": {},
   "source": [
    "比如当用 softmax 分类时，那么有多个时，也可以算算平均值，用一个单一指标去评价，速度会快很多"
   ]
  },
  {
   "cell_type": "markdown",
   "metadata": {},
   "source": [
    "### 1.4 满足和优化指标"
   ]
  },
  {
   "cell_type": "markdown",
   "metadata": {},
   "source": [
    "有的时候直接用线性加权，有些刻意。但你可以这样做，比如选择一个分类器，最大程度的提高 Accuracy，但必须满足时间要求。"
   ]
  },
  {
   "cell_type": "markdown",
   "metadata": {},
   "source": [
    "这样的话，我们 Accuracy 属于优化指标，而 Running Time 属于满足指标。"
   ]
  },
  {
   "cell_type": "markdown",
   "metadata": {},
   "source": [
    "专注一个优化指标，1个或多个满足指标，这样则比较清晰如何选择模型。"
   ]
  },
  {
   "cell_type": "markdown",
   "metadata": {},
   "source": [
    "### 1.5 train/dev/test sets 设置"
   ]
  },
  {
   "cell_type": "markdown",
   "metadata": {},
   "source": [
    "dev set 有时叫验证集，有时也叫保留交叉验证集"
   ]
  },
  {
   "cell_type": "markdown",
   "metadata": {},
   "source": [
    "dev sets 和 test sets 不要来自不同的分布，而是应该设定一个 dev sets +单一评估指标。，"
   ]
  },
  {
   "cell_type": "markdown",
   "metadata": {},
   "source": [
    "**小结：**\n",
    "\n",
    "Choose a dev set and test set to reflect data you expect to get in the futrue and consider important to do well on. \n",
    "\n",
    "特别是，这里的开发集合测试集，应该要来自同一个分布。所以，不管你希望未来会得到什么样的数据，一旦你的算法效果不错，要尝试收集类似的数据。而且不管那些数据是什么，都要随机分配到 dev set 和 test set."
   ]
  },
  {
   "cell_type": "markdown",
   "metadata": {},
   "source": [
    "而如何选择训练集，则会影响你逼近那个目标有多快。"
   ]
  },
  {
   "cell_type": "markdown",
   "metadata": {},
   "source": [
    "### 1.6 train/dev/test sets 的划分"
   ]
  },
  {
   "cell_type": "markdown",
   "metadata": {},
   "source": [
    "万级别以下的数据用传统的方式切分是没有问题的。而如果是百万级的数据，则 98/1/1 的划分方式比较合理。"
   ]
  },
  {
   "cell_type": "markdown",
   "metadata": {},
   "source": [
    "**关于 test set size:**\n",
    "    \n",
    "Set your test set to be big enough to give high confidence in the overalll performance of your system.\n",
    "\n",
    "测试集的目的是，完成系统开发之后，测试集可以帮你评估投产系统的性能。所以，大小选择方针就是，令你的测试集足够大，能够以高置信度评估系统的整体性能。所以，除非你对最终投产系统有一个很精确的指标，一般来说，测试集不需要上百万个例子。"
   ]
  },
  {
   "cell_type": "markdown",
   "metadata": {},
   "source": [
    "如果不打算部署到最终系统，那么省略测试集也是可以的，但如果要部署的话，则不建议省略测试集。"
   ]
  },
  {
   "cell_type": "markdown",
   "metadata": {},
   "source": [
    "### 1.7 什么时候该改变评估指标和 dataset 的大小"
   ]
  },
  {
   "cell_type": "markdown",
   "metadata": {},
   "source": [
    "当你的评估指标，无法正确衡量算法之间的优劣排序时，在这种情况下，原来的指标错误地预测算法 A 是更好的算法，这个时候你就该修改你的评估指标，或者要改变开发集或测试集了。"
   ]
  },
  {
   "cell_type": "markdown",
   "metadata": {},
   "source": [
    "一个改变评估指标的办法是加个权重指标。另外，如果觉得这个指标不能很好的区分模型，那么就还一个。"
   ]
  },
  {
   "cell_type": "markdown",
   "metadata": {},
   "source": [
    "机器学习学习任务看成两个独立的步骤：\n",
    "\n",
    "1. 设定目标\n",
    "2. 如何精确瞄准，如何命中目标"
   ]
  },
  {
   "cell_type": "markdown",
   "metadata": {},
   "source": [
    "### 1.8 为什么是人的表现"
   ]
  },
  {
   "cell_type": "markdown",
   "metadata": {},
   "source": [
    "随着时间的推移，当你继续训练算法时，可能模型越来越大，数据越来越多，但是性能无法超过某个理论上限，这就是贝叶斯最优误差"
   ]
  },
  {
   "cell_type": "markdown",
   "metadata": {},
   "source": [
    "### 1.9 可避免偏差"
   ]
  },
  {
   "cell_type": "markdown",
   "metadata": {},
   "source": [
    "看到底是方差还是偏差，得看 hummans $\\approx$ bayes 的值"
   ]
  }
 ],
 "metadata": {
  "hide_input": false,
  "kernelspec": {
   "display_name": "Python 3",
   "language": "python",
   "name": "python3"
  },
  "language_info": {
   "codemirror_mode": {
    "name": "ipython",
    "version": 3
   },
   "file_extension": ".py",
   "mimetype": "text/x-python",
   "name": "python",
   "nbconvert_exporter": "python",
   "pygments_lexer": "ipython3",
   "version": "3.6.2"
  }
 },
 "nbformat": 4,
 "nbformat_minor": 2
}
